{
  "nbformat_minor": 0, 
  "nbformat": 4, 
  "cells": [
    {
      "execution_count": null, 
      "cell_type": "code", 
      "source": [
        "%matplotlib inline"
      ], 
      "outputs": [], 
      "metadata": {
        "collapsed": false
      }
    }, 
    {
      "source": [
        "\n# Minimum Jerk Trajectory\n\n\nAn example for a minimum jerk trajectory is displayed in the following plot.\n\n"
      ], 
      "cell_type": "markdown", 
      "metadata": {}
    }, 
    {
      "execution_count": null, 
      "cell_type": "code", 
      "source": [
        "print(__doc__)\n\nimport matplotlib.pyplot as plt\nfrom bolero.datasets import make_minimum_jerk\n\nX, Xd, Xdd = make_minimum_jerk([0], [1])\nplt.figure()\nplt.subplot(311)\nplt.ylabel(\"$x$\")\nplt.plot(X[0, :, 0])\nplt.subplot(312)\nplt.ylabel(\"$\\dot{x}$\")\nplt.plot(Xd[0, :, 0])\nplt.subplot(313)\nplt.xlabel(\"$t$\")\nplt.ylabel(\"$\\ddot{x}$\")\nplt.plot(Xdd[0, :, 0])\nplt.show()"
      ], 
      "outputs": [], 
      "metadata": {
        "collapsed": false
      }
    }
  ], 
  "metadata": {
    "kernelspec": {
      "display_name": "Python 2", 
      "name": "python2", 
      "language": "python"
    }, 
    "language_info": {
      "mimetype": "text/x-python", 
      "nbconvert_exporter": "python", 
      "name": "python", 
      "file_extension": ".py", 
      "version": "2.7.12", 
      "pygments_lexer": "ipython2", 
      "codemirror_mode": {
        "version": 2, 
        "name": "ipython"
      }
    }
  }
}