{
  "nbformat_minor": 0, 
  "nbformat": 4, 
  "cells": [
    {
      "execution_count": null, 
      "cell_type": "code", 
      "source": [
        "%matplotlib inline"
      ], 
      "outputs": [], 
      "metadata": {
        "collapsed": false
      }
    }, 
    {
      "source": [
        "\n# Load Module from Config\n\n\nIn bolero, we can load modules (optimizers, behavior search methods, behaviors,\nenvironments) either from configuration dictionaries or from YAML files. This\nexample shows how we can load an optimizer from a configuration dictionary.\n\n"
      ], 
      "cell_type": "markdown", 
      "metadata": {}
    }, 
    {
      "execution_count": null, 
      "cell_type": "code", 
      "source": [
        "print(__doc__)\n\nfrom bolero.utils import from_dict\n\n\nconfig = {\n    \"type\": \"bolero.optimizer.CMAESOptimizer\",\n    \"variance\": 10.0,\n}\n\noptimizer = from_dict(config)\noptimizer.init(2)\nparams = [0, 0]\noptimizer.get_next_parameters(params)\nprint(params)"
      ], 
      "outputs": [], 
      "metadata": {
        "collapsed": false
      }
    }
  ], 
  "metadata": {
    "kernelspec": {
      "display_name": "Python 2", 
      "name": "python2", 
      "language": "python"
    }, 
    "language_info": {
      "mimetype": "text/x-python", 
      "nbconvert_exporter": "python", 
      "name": "python", 
      "file_extension": ".py", 
      "version": "2.7.12", 
      "pygments_lexer": "ipython2", 
      "codemirror_mode": {
        "version": 2, 
        "name": "ipython"
      }
    }
  }
}