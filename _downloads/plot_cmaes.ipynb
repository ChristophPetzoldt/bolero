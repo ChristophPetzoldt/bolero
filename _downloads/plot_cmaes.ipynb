{
  "nbformat_minor": 0, 
  "nbformat": 4, 
  "cells": [
    {
      "execution_count": null, 
      "cell_type": "code", 
      "source": [
        "%matplotlib inline"
      ], 
      "outputs": [], 
      "metadata": {
        "collapsed": false
      }
    }, 
    {
      "source": [
        "\n# Covariance Matrix Adaption Evolution Strategy\n\n\nIn this example, we see how CMA-ES works by means of two objective functions:\nit has a Gaussian search distribution (illustrated by the orange equiprobable\nellipse) from which samples are drawn.\n\nEach sample is evaluated on the objective function and than weighted by its\nrank in the current generation (samples with higher weights are whiter). The\nweighted samples will be used to update the search distribution (covariance\nand mean) for the next generation (green equiprobable ellipse). The optimum of\nthe objective function is marked with a red dot and the objective function\nvalues for the search space are color-coded.\n\n"
      ], 
      "cell_type": "markdown", 
      "metadata": {}
    }, 
    {
      "execution_count": null, 
      "cell_type": "code", 
      "source": [
        "print(__doc__)\n\nimport numpy as np\nimport matplotlib.pyplot as plt\nfrom matplotlib.patches import Ellipse\nfrom bolero.environment.objective_functions import FUNCTIONS\nfrom bolero.optimizer import CMAESOptimizer\n\n\ndef plot_objective():\n    x, y = np.meshgrid(np.arange(-6, 6, 0.1), np.arange(-6, 6, 0.1))\n    z = np.array([[objective.feedback([y[i, j], x[i, j]])\n                   for i in range(x.shape[0])]\n                   for j in range(x.shape[1])])\n    plt.contourf(x, y, z, cmap=plt.cm.Blues,\n                 levels=np.linspace(z.min(), z.max(), 30))\n    plt.setp(plt.gca(), xticks=(), yticks=(), xlim=(-5, 5), ylim=(-5, 5))\n\n\ndef equiprobable_ellipse(cov, factor=1.0):\n    \"\"\"Source: http://stackoverflow.com/questions/12301071\"\"\"\n    def eigsorted(cov):\n        vals, vecs = np.linalg.eigh(cov)\n        order = vals.argsort()[::-1]\n        return vals[order], vecs[:,order]\n    vals, vecs = eigsorted(cov)\n    angle = np.arctan2(*vecs[:,0][::-1])\n    width, height = 2 * factor * np.sqrt(vals)\n    return angle, width, height\n\n\ndef plot_ellipse(cov, mean, color):\n    angle, width, height = equiprobable_ellipse(cov)\n    e = Ellipse(xy=mean, width=width, height=height, angle=np.degrees(angle),\n                ec=color, fc=\"none\", lw=3, ls=\"dashed\")\n    plt.gca().add_artist(e)\n\n\nn_generations = 20\nn_samples_per_update = 20\nn_params = 2\n\n\nfor objective_name in [\"Sphere\", \"SchaffersF7\"]:\n    objective = FUNCTIONS[objective_name](0, n_params)\n\n    initial_params = 4.0 * np.ones(n_params)\n    cmaes = CMAESOptimizer(\n        initial_params=initial_params, variance=0.1, active=True,\n        n_samples_per_update=n_samples_per_update,\n        bounds=np.array([[-5, 5], [-5, 5]]), random_state=0)\n    cmaes.init(n_params)\n\n    n_rows = 4\n    plt.figure(figsize=(n_generations * 3 / n_rows, 3 * n_rows))\n    path = []\n    for it in range(n_generations):\n        plt.subplot(n_rows, n_generations / n_rows, it + 1)\n        plot_objective()\n        last_mean = cmaes.mean.copy()\n        path.append(last_mean)\n        last_cov = cmaes.var * cmaes.cov\n\n        X = np.empty((n_samples_per_update, n_params))\n        F = np.empty((n_samples_per_update, 1))\n        for i in range(n_samples_per_update):\n            cmaes.get_next_parameters(X[i])\n            F[i, :] = objective.feedback(X[i])\n            cmaes.set_evaluation_feedback(F[i])\n\n        current_path = np.array(path)\n        plt.plot(current_path[:, 0], current_path[:, 1], \"o-\", c=\"y\", alpha=0.2)\n\n        weights = np.zeros(n_samples_per_update)\n        weights[np.argsort(F.ravel())[::-1][:len(cmaes.weights)]] = cmaes.weights\n        plt.scatter(X[:, 0], X[:, 1], c=weights, cmap=plt.cm.gray)\n        plt.scatter(objective.x_opt[0], objective.x_opt[1], s=100, color=\"r\")\n\n        plot_ellipse(cov=last_cov, mean=last_mean, color=\"orange\")\n        plot_ellipse(cov=cmaes.var * cmaes.cov, mean=cmaes.mean, color=\"green\")\n    plt.subplots_adjust(left=0, bottom=0, right=1, top=1, wspace=0, hspace=0)\nplt.show()"
      ], 
      "outputs": [], 
      "metadata": {
        "collapsed": false
      }
    }
  ], 
  "metadata": {
    "kernelspec": {
      "display_name": "Python 2", 
      "name": "python2", 
      "language": "python"
    }, 
    "language_info": {
      "mimetype": "text/x-python", 
      "nbconvert_exporter": "python", 
      "name": "python", 
      "file_extension": ".py", 
      "version": "2.7.12", 
      "pygments_lexer": "ipython2", 
      "codemirror_mode": {
        "version": 2, 
        "name": "ipython"
      }
    }
  }
}