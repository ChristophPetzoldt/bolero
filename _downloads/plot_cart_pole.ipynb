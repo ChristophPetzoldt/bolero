{
  "nbformat_minor": 0, 
  "nbformat": 4, 
  "cells": [
    {
      "execution_count": null, 
      "cell_type": "code", 
      "source": [
        "%matplotlib inline"
      ], 
      "outputs": [], 
      "metadata": {
        "collapsed": false
      }
    }, 
    {
      "source": [
        "\n# Cart Pole\n\n\nThis is an example of how to use the Cart Pole environment from OpenAI Gym\nvia the wrapper that is provided with BOLeRo. A linear policy is sufficient\nto solve the problem and policy search algorithm usually work very well in\nthis domain.\n\n"
      ], 
      "cell_type": "markdown", 
      "metadata": {}
    }, 
    {
      "execution_count": null, 
      "cell_type": "code", 
      "source": [
        "print(__doc__)\n\nimport numpy as np\nimport matplotlib.pyplot as plt\nfrom bolero.environment import OpenAiGym\nfrom bolero.behavior_search import BlackBoxSearch\nfrom bolero.optimizer import CMAESOptimizer\nfrom bolero.representation import LinearBehavior\nfrom bolero.controller import Controller\n\n\nbeh = LinearBehavior()\nenv = OpenAiGym(\"CartPole-v0\", render=False, seed=0)\nopt = CMAESOptimizer(variance=10.0 ** 2, random_state=0)\nbs = BlackBoxSearch(beh, opt)\ncontroller = Controller(environment=env, behavior_search=bs, n_episodes=300)\n\nrewards = controller.learn()\ncontroller.episode_with(bs.get_best_behavior())\n\nplt.figure()\nax = plt.subplot(111)\nax.set_title(\"Optimization progress\")\nax.plot(rewards)\nax.set_xlabel(\"Episode\")\nax.set_ylabel(\"Reward\")\nax.set_ylim(-10, 210)\nplt.show()"
      ], 
      "outputs": [], 
      "metadata": {
        "collapsed": false
      }
    }
  ], 
  "metadata": {
    "kernelspec": {
      "display_name": "Python 2", 
      "name": "python2", 
      "language": "python"
    }, 
    "language_info": {
      "mimetype": "text/x-python", 
      "nbconvert_exporter": "python", 
      "name": "python", 
      "file_extension": ".py", 
      "version": "2.7.12", 
      "pygments_lexer": "ipython2", 
      "codemirror_mode": {
        "version": 2, 
        "name": "ipython"
      }
    }
  }
}