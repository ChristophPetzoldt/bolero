{
  "nbformat_minor": 0, 
  "nbformat": 4, 
  "cells": [
    {
      "execution_count": null, 
      "cell_type": "code", 
      "source": [
        "%matplotlib inline"
      ], 
      "outputs": [], 
      "metadata": {
        "collapsed": false
      }
    }, 
    {
      "source": [
        "\n# Obstacle Avoidance\n\n\nWe use CMA-ES to optimize a DMP so that it avoids point obstacles.\n\n"
      ], 
      "cell_type": "markdown", 
      "metadata": {}
    }, 
    {
      "execution_count": null, 
      "cell_type": "code", 
      "source": [
        "print(__doc__)\n\nimport numpy as np\nimport matplotlib.pyplot as plt\nfrom bolero.environment import OptimumTrajectory\nfrom bolero.behavior_search import BlackBoxSearch\nfrom bolero.optimizer import CMAESOptimizer\nfrom bolero.representation import DMPBehavior\nfrom bolero.controller import Controller\n\n\nn_task_dims = 2\nobstacles = [np.array([0.5, 0.5]), np.array([0.6, 0.8]), np.array([0.8, 0.6])]\nx0 = np.zeros(n_task_dims)\ng = np.ones(n_task_dims)\nexecution_time = 1.0\ndt = 0.01\nn_features = 10\nn_episodes = 500\n\n\nbeh = DMPBehavior(execution_time, dt, n_features)\nenv = OptimumTrajectory(x0, g, execution_time, dt, obstacles,\n                        penalty_goal_dist=1.0, penalty_obstacle=1000.0,\n                        penalty_acc=1.0)\nopt = CMAESOptimizer(variance=100.0 ** 2, random_state=0)\nbs = BlackBoxSearch(beh, opt)\ncontroller = Controller(environment=env, behavior_search=bs,\n                        n_episodes=n_episodes, record_inputs=True)\n\nrewards = controller.learn([\"x0\", \"g\"], [x0, g])\ncontroller.episode_with(bs.get_best_behavior(), [\"x0\", \"g\"], [x0, g])\nX = np.asarray(controller.inputs_[-1])\nX_hist = np.asarray(controller.inputs_)\n\nplt.figure(figsize=(8, 5))\nax = plt.subplot(121)\nax.set_title(\"Optimization progress\")\nax.plot(rewards)\nax.set_xlabel(\"Episode\")\nax.set_ylabel(\"Reward\")\n\nax = plt.subplot(122, aspect=\"equal\")\nax.set_title(\"Learned trajectory\")\nenv.plot(ax)\nax.plot(X[:, 0], X[:, 1], lw=5, label=\"Final trajectory\")\nfor it, X in enumerate(X_hist[::int(n_episodes / 10)]):\n    ax.plot(X[:, 0], X[:, 1], c=\"k\", alpha=it / 20.0, lw=3, ls=\"--\")\nax.set_xticks(())\nax.set_yticks(())\nplt.legend(loc=\"best\")\nplt.show()"
      ], 
      "outputs": [], 
      "metadata": {
        "collapsed": false
      }
    }
  ], 
  "metadata": {
    "kernelspec": {
      "display_name": "Python 2", 
      "name": "python2", 
      "language": "python"
    }, 
    "language_info": {
      "mimetype": "text/x-python", 
      "nbconvert_exporter": "python", 
      "name": "python", 
      "file_extension": ".py", 
      "version": "2.7.12", 
      "pygments_lexer": "ipython2", 
      "codemirror_mode": {
        "version": 2, 
        "name": "ipython"
      }
    }
  }
}