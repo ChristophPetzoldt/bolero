{
  "nbformat_minor": 0, 
  "nbformat": 4, 
  "cells": [
    {
      "execution_count": null, 
      "cell_type": "code", 
      "source": [
        "%matplotlib inline"
      ], 
      "outputs": [], 
      "metadata": {
        "collapsed": false
      }
    }, 
    {
      "source": [
        "\n# Function Optimization\n\n\nCompare several optimizers for unimodal and multimodal optimization. As a\nbenchmark function for unimodal optimization, the\n`Rosenbrock <http://en.wikipedia.org/wiki/Rosenbrock_function>`_ function will\nbe used. To compare multimodal optimizers, the Katsuura function will be used.\nMultimodal optimization requires a restart strategy in comparison to unimodal\noptimization because we might get stuck in a local optimum. Both objective\nfunctions will only have two parameters that have to be optimized in this\nexample.\n\naCMA-ES is a little bit faster than CMA-ES in this example and both are\nsignificantly better than random exploration. A very aggressive version of\nREPS is similarly efficient as aCMA-ES. Another variante of CMA-ES, ACM-ES,\noutperforms all other optimizers. ACM-ES uses a ranking SVM as a surrogate\nmodel.\n\nWe compare several multimodal variants of CMA-ES on the Katsuura function.\nIPOP (increasing population size) and BIPOP (Bi-population) refer to different\nrestart strategy and the \"a\" (active) indicates another search distribution\nupdate. IPOP and BIPOP do not differ very much at the beginning, however, the\nactive update makes a difference in this example.\n\n"
      ], 
      "cell_type": "markdown", 
      "metadata": {}
    }, 
    {
      "execution_count": null, 
      "cell_type": "code", 
      "source": [
        "print(__doc__)\n\nimport numpy as np\nfrom bolero.optimizer import (NoOptimizer, RandomOptimizer, CMAESOptimizer,\n                              IPOPCMAESOptimizer, BIPOPCMAESOptimizer,\n                              REPSOptimizer, ACMESOptimizer)\nfrom bolero.environment.objective_functions import Rosenbrock, Katsuura\nimport matplotlib.pyplot as plt\n\n\ndef eval_loop(Opt, opt, n_dims, n_iter):\n    x = np.empty(n_dims)\n    opt.init(n_dims)\n    objective = Opt(0, n_dims)\n    results = np.empty(n_iter)\n    for i in xrange(n_iter):\n        opt.get_next_parameters(x)\n        results[i] = objective.feedback(x)\n        opt.set_evaluation_feedback(results[i])\n    return results - objective.f_opt\n\n\nn_dims = 2\nn_iter = 800\nx = np.zeros(n_dims)\n\noptimizers = {\n    \"None\": NoOptimizer(x),\n    \"Random\": RandomOptimizer(x, random_state=0),\n    \"CMA-ES\": CMAESOptimizer(x, bounds=np.array([[-5, 5]]), random_state=0),\n    \"aCMA-ES\": CMAESOptimizer(x, bounds=np.array([[-5, 5]]), active=True,\n                              random_state=0),\n    \"REPS\": REPSOptimizer(x, random_state=0),\n    \"ACM-ES\": ACMESOptimizer(x, random_state=0)\n    }\n\nplt.figure(figsize=(12, 8))\nplt.xlabel(\"Function evaluations\")\nplt.ylabel(\"$f(x)$\")\nplt.title(\"Rosenbrock function\")\nfor name, opt in optimizers.items():\n    r = eval_loop(Rosenbrock, opt, n_dims, n_iter)\n    plt.plot(-np.maximum.accumulate(r), label=name)\nplt.yscale(\"log\")\nplt.legend(loc='best')\n\nn_dims = 2\nn_iter = 4000\nx = np.zeros(n_dims)\n\noptimizers = {\n    \"IPOP-CMA-ES\": IPOPCMAESOptimizer(x, bounds=np.array([[-5, 5]]),\n                                      random_state=0),\n    \"BIPOP-CMA-ES\": BIPOPCMAESOptimizer(x, bounds=np.array([[-5, 5]]),\n                                        random_state=0),\n    \"IPOP-aCMA-ES\": IPOPCMAESOptimizer(x, bounds=np.array([[-5, 5]]),\n                                       active=True, random_state=0),\n    \"BIPOP-aCMA-ES\": BIPOPCMAESOptimizer(x, bounds=np.array([[-5, 5]]),\n                                         active=True, random_state=0),\n    }\n\nplt.figure(figsize=(12, 8))\nplt.xlabel(\"Function evaluations\")\nplt.ylabel(\"$f(x)$\")\nplt.title(\"Katsuura function\")\nfor name, opt in optimizers.items():\n    plt.plot(-eval_loop(Katsuura, opt, n_dims, n_iter), label=name)\nplt.yscale(\"log\")\nplt.legend(loc='best')\n\nplt.show()"
      ], 
      "outputs": [], 
      "metadata": {
        "collapsed": false
      }
    }
  ], 
  "metadata": {
    "kernelspec": {
      "display_name": "Python 2", 
      "name": "python2", 
      "language": "python"
    }, 
    "language_info": {
      "mimetype": "text/x-python", 
      "nbconvert_exporter": "python", 
      "name": "python", 
      "file_extension": ".py", 
      "version": "2.7.12", 
      "pygments_lexer": "ipython2", 
      "codemirror_mode": {
        "version": 2, 
        "name": "ipython"
      }
    }
  }
}