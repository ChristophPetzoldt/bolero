{
  "nbformat_minor": 0, 
  "nbformat": 4, 
  "cells": [
    {
      "execution_count": null, 
      "cell_type": "code", 
      "source": [
        "%matplotlib inline"
      ], 
      "outputs": [], 
      "metadata": {
        "collapsed": false
      }
    }, 
    {
      "source": [
        "\n# Catapult Environment\n\n\nIllustration of the catapult environment for example surface.\n\n"
      ], 
      "cell_type": "markdown", 
      "metadata": {}
    }, 
    {
      "execution_count": null, 
      "cell_type": "code", 
      "source": [
        "print(__doc__)\n\nimport matplotlib.pyplot as plt\nfrom bolero.environment import Catapult\n\ncatapult = Catapult([(0, 0), (2.0, -0.5), (3.0, 0.5), (4, 0.25), (5, 2.5),\n                     (7, 0), (10, 0.5), (15, 0)])\ncatapult.init()\nplt.figure(figsize=(10, 6))\nax = plt.subplot(111)\ncatapult.plot(ax)\nplt.xlabel(\"Target\")\nplt.ylim(-1, 6)\nplt.title(\"Trajectories for different angles under maximal velocity (v=10)\")\nplt.show()"
      ], 
      "outputs": [], 
      "metadata": {
        "collapsed": false
      }
    }
  ], 
  "metadata": {
    "kernelspec": {
      "display_name": "Python 2", 
      "name": "python2", 
      "language": "python"
    }, 
    "language_info": {
      "mimetype": "text/x-python", 
      "nbconvert_exporter": "python", 
      "name": "python", 
      "file_extension": ".py", 
      "version": "2.7.12", 
      "pygments_lexer": "ipython2", 
      "codemirror_mode": {
        "version": 2, 
        "name": "ipython"
      }
    }
  }
}